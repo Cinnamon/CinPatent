{
 "cells": [
  {
   "cell_type": "code",
   "execution_count": 12,
   "metadata": {},
   "outputs": [],
   "source": [
    "import json\n",
    "import os\n",
    "import scipy\n",
    "from sklearn.feature_extraction.text import TfidfVectorizer\n",
    "from sklearn.preprocessing import MultiLabelBinarizer\n",
    "from nltk.corpus import stopwords"
   ]
  },
  {
   "cell_type": "code",
   "execution_count": 13,
   "metadata": {},
   "outputs": [],
   "source": [
    "data_path = '../patent_data/cinpatent/en_patent/segmentation/en_0.75.ndjson'\n",
    "output_dir = './datasets/en_patent_0.75'\n",
    "os.makedirs(output_dir, exist_ok=True)\n",
    "lang = 'ja'\n",
    "feat_list = ['title', 'abstract', 'claim_1', 'description']"
   ]
  },
  {
   "cell_type": "code",
   "execution_count": 14,
   "metadata": {},
   "outputs": [
    {
     "name": "stdout",
     "output_type": "stream",
     "text": [
      "Number of samples 36209\n"
     ]
    }
   ],
   "source": [
    "with open(data_path, 'r') as f:\n",
    "    samples = [json.loads(line) for line in f]\n",
    "print('Number of samples', len(samples))"
   ]
  },
  {
   "cell_type": "code",
   "execution_count": 15,
   "metadata": {},
   "outputs": [
    {
     "name": "stdout",
     "output_type": "stream",
     "text": [
      "Number of labels: 425\n"
     ]
    }
   ],
   "source": [
    "data = {'train': [], 'val': [], 'test': []}\n",
    "all_labels = set()\n",
    "\n",
    "for x in samples:\n",
    "    if x['is_train']:\n",
    "        data['train'].append(x)\n",
    "    elif x['is_dev']:\n",
    "        data['val'].append(x)\n",
    "    else:\n",
    "        data['test'].append(x)\n",
    "    all_labels.update(x['labels'])\n",
    "\n",
    "all_labels = sorted(all_labels)\n",
    "print('Number of labels:', len(all_labels))"
   ]
  },
  {
   "cell_type": "code",
   "execution_count": 16,
   "metadata": {},
   "outputs": [],
   "source": [
    "def get_text(sample, feat_list):\n",
    "    text = []\n",
    "    for feat in feat_list:\n",
    "        text.extend(sample[feat].split())\n",
    "    res = \" \".join(text).lower()[:5000]\n",
    "    return res if len(res) != 0 else \"none\""
   ]
  },
  {
   "cell_type": "code",
   "execution_count": 17,
   "metadata": {},
   "outputs": [],
   "source": [
    "stop_words = stopwords.words('english') if lang == 'en' else None\n",
    "vectorizer = TfidfVectorizer(tokenizer=lambda x: x.split(), stop_words=stop_words, min_df=5, max_df=0.8, max_features=50000)\n",
    "label_encoder = MultiLabelBinarizer(classes=all_labels, sparse_output=True)\n",
    "\n",
    "for data_set in ('train', 'val', 'test'):\n",
    "    text_list = [get_text(sample, feat_list=feat_list) for sample in data[data_set]]\n",
    "    label_list = [sample['labels'] for sample in data[data_set]]\n",
    "    if data_set == 'train':\n",
    "        X = vectorizer.fit_transform(text_list)\n",
    "        y = label_encoder.fit_transform(label_list)\n",
    "    else:\n",
    "        X = vectorizer.transform(text_list)\n",
    "        y = label_encoder.transform(label_list)\n",
    "\n",
    "    scipy.sparse.save_npz(os.path.join(output_dir, f'X.{data_set}.npz'), X)\n",
    "    scipy.sparse.save_npz(os.path.join(output_dir, f'Y.{data_set}.npz'), y)"
   ]
  },
  {
   "cell_type": "code",
   "execution_count": 18,
   "metadata": {},
   "outputs": [
    {
     "data": {
      "text/plain": [
       "scipy.sparse.csr.csr_matrix"
      ]
     },
     "execution_count": 18,
     "metadata": {},
     "output_type": "execute_result"
    }
   ],
   "source": [
    "type(X)"
   ]
  },
  {
   "cell_type": "code",
   "execution_count": null,
   "metadata": {},
   "outputs": [],
   "source": []
  }
 ],
 "metadata": {
  "interpreter": {
   "hash": "782813c1ee7d94e6a7e592839f3428b07ad94676f042cceb91a0a4cb60354c25"
  },
  "kernelspec": {
   "display_name": "Python 3.9.7 64-bit (conda)",
   "language": "python",
   "name": "python3"
  },
  "language_info": {
   "codemirror_mode": {
    "name": "ipython",
    "version": 3
   },
   "file_extension": ".py",
   "mimetype": "text/x-python",
   "name": "python",
   "nbconvert_exporter": "python",
   "pygments_lexer": "ipython3",
   "version": "3.9.7"
  },
  "orig_nbformat": 4
 },
 "nbformat": 4,
 "nbformat_minor": 2
}
